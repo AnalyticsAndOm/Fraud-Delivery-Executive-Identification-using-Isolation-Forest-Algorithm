{
 "cells": [
  {
   "cell_type": "markdown",
   "id": "6f4d32ae",
   "metadata": {},
   "source": [
    "# Project title : Fraud Delivery Executive Identification"
   ]
  },
  {
   "cell_type": "markdown",
   "id": "4167aec9",
   "metadata": {},
   "source": [
    "## Objective: Identify potential fraudulent delivery executives\n",
    "\n",
    "### Introduction:\n",
    "In the rapidly expanding world of online food delivery, ensuring a reliable and ethical delivery fleet is paramount. An unethical or immoral delivery fleet can have dire consequences, including revenue loss, theft, and a tarnished reputation. According to industry reports, delivery fraud can account for up to 5% of total revenue losses in the food delivery sector.\n",
    "\n",
    "A study found that food delivery companies in the US alone could lose over $300 million annually due to such fraudulent activities. This necessitates a robust mechanism for identifying and mitigating fraud within the delivery fleet.By analyzing patterns and behaviors within the delivery process, companies can identify anomalies that may indicate fraudulent activities.\n",
    "\n",
    "Among various data analysis tools and algorithms, Isolation Forest algorithm has emerged as a powerful tool for identifying anomalies within large datasets. It works by isolating observations through partitioning, which makes it particularly effective for detecting outliers. In our project, we leverage the Isolation Forest algorithm to create a rough segregation of delivery riders into normal and potentially fraudulent categories."
   ]
  },
  {
   "cell_type": "code",
   "execution_count": 1,
   "id": "4df2ef3e",
   "metadata": {},
   "outputs": [],
   "source": [
    "# importing necessary operational libraries\n",
    "\n",
    "import numpy as np\n",
    "import matplotlib.pyplot as plt\n",
    "import pandas as pd\n",
    "from datetime import datetime"
   ]
  },
  {
   "cell_type": "code",
   "execution_count": 26,
   "id": "dc40d643",
   "metadata": {
    "scrolled": true
   },
   "outputs": [
    {
     "data": {
      "text/html": [
       "<div>\n",
       "<style scoped>\n",
       "    .dataframe tbody tr th:only-of-type {\n",
       "        vertical-align: middle;\n",
       "    }\n",
       "\n",
       "    .dataframe tbody tr th {\n",
       "        vertical-align: top;\n",
       "    }\n",
       "\n",
       "    .dataframe thead th {\n",
       "        text-align: right;\n",
       "    }\n",
       "</style>\n",
       "<table border=\"1\" class=\"dataframe\">\n",
       "  <thead>\n",
       "    <tr style=\"text-align: right;\">\n",
       "      <th></th>\n",
       "      <th>order_time</th>\n",
       "      <th>order_id</th>\n",
       "      <th>order_date</th>\n",
       "      <th>allot_time</th>\n",
       "      <th>accept_time</th>\n",
       "      <th>pickup_time</th>\n",
       "      <th>delivered_time</th>\n",
       "      <th>rider_id</th>\n",
       "      <th>first_mile_distance</th>\n",
       "      <th>last_mile_distance</th>\n",
       "      <th>alloted_orders</th>\n",
       "      <th>delivered_orders</th>\n",
       "      <th>cancelled</th>\n",
       "      <th>undelivered_orders</th>\n",
       "      <th>lifetime_order_count</th>\n",
       "      <th>reassignment_method</th>\n",
       "      <th>reassignment_reason</th>\n",
       "      <th>reassigned_order</th>\n",
       "      <th>session_time</th>\n",
       "      <th>cancelled_time</th>\n",
       "    </tr>\n",
       "  </thead>\n",
       "  <tbody>\n",
       "    <tr>\n",
       "      <th>0</th>\n",
       "      <td>2021-01-26 02:21:35</td>\n",
       "      <td>556753</td>\n",
       "      <td>2021-01-26 00:00:00</td>\n",
       "      <td>2021-01-26 02:21:59</td>\n",
       "      <td>2021-01-26 02:22:08</td>\n",
       "      <td>2021-01-26 02:32:51</td>\n",
       "      <td>2021-01-26 02:49:47</td>\n",
       "      <td>11696</td>\n",
       "      <td>1.5666</td>\n",
       "      <td>2.65</td>\n",
       "      <td>46.0</td>\n",
       "      <td>46.0</td>\n",
       "      <td>0</td>\n",
       "      <td>0.0</td>\n",
       "      <td>621.0</td>\n",
       "      <td>NaN</td>\n",
       "      <td>NaN</td>\n",
       "      <td>NaN</td>\n",
       "      <td>NaN</td>\n",
       "      <td>NaN</td>\n",
       "    </tr>\n",
       "    <tr>\n",
       "      <th>1</th>\n",
       "      <td>2021-01-26 02:33:16</td>\n",
       "      <td>556754</td>\n",
       "      <td>2021-01-26 00:00:00</td>\n",
       "      <td>2021-01-26 02:33:57</td>\n",
       "      <td>2021-01-26 02:34:45</td>\n",
       "      <td>2021-01-26 02:50:25</td>\n",
       "      <td>2021-01-26 03:11:15</td>\n",
       "      <td>18117</td>\n",
       "      <td>2.5207</td>\n",
       "      <td>2.76</td>\n",
       "      <td>8.0</td>\n",
       "      <td>8.0</td>\n",
       "      <td>0</td>\n",
       "      <td>0.0</td>\n",
       "      <td>105.0</td>\n",
       "      <td>NaN</td>\n",
       "      <td>NaN</td>\n",
       "      <td>NaN</td>\n",
       "      <td>3.266667</td>\n",
       "      <td>NaN</td>\n",
       "    </tr>\n",
       "    <tr>\n",
       "      <th>2</th>\n",
       "      <td>2021-01-26 02:39:49</td>\n",
       "      <td>556755</td>\n",
       "      <td>2021-01-26 00:00:00</td>\n",
       "      <td>2021-01-26 02:39:57</td>\n",
       "      <td>2021-01-26 02:40:13</td>\n",
       "      <td>2021-01-26 02:56:00</td>\n",
       "      <td>2021-01-26 03:12:46</td>\n",
       "      <td>18623</td>\n",
       "      <td>2.2074</td>\n",
       "      <td>4.80</td>\n",
       "      <td>1.0</td>\n",
       "      <td>1.0</td>\n",
       "      <td>0</td>\n",
       "      <td>0.0</td>\n",
       "      <td>66.0</td>\n",
       "      <td>NaN</td>\n",
       "      <td>NaN</td>\n",
       "      <td>NaN</td>\n",
       "      <td>9.816667</td>\n",
       "      <td>NaN</td>\n",
       "    </tr>\n",
       "    <tr>\n",
       "      <th>3</th>\n",
       "      <td>2021-01-26 02:47:53</td>\n",
       "      <td>556756</td>\n",
       "      <td>2021-01-26 00:00:00</td>\n",
       "      <td>2021-01-26 02:48:25</td>\n",
       "      <td>2021-01-26 02:49:06</td>\n",
       "      <td>2021-01-26 03:21:51</td>\n",
       "      <td>2021-01-26 03:41:05</td>\n",
       "      <td>15945</td>\n",
       "      <td>2.1894</td>\n",
       "      <td>6.38</td>\n",
       "      <td>1.0</td>\n",
       "      <td>1.0</td>\n",
       "      <td>0</td>\n",
       "      <td>0.0</td>\n",
       "      <td>127.0</td>\n",
       "      <td>NaN</td>\n",
       "      <td>NaN</td>\n",
       "      <td>NaN</td>\n",
       "      <td>17.533333</td>\n",
       "      <td>NaN</td>\n",
       "    </tr>\n",
       "    <tr>\n",
       "      <th>4</th>\n",
       "      <td>2021-01-26 03:06:30</td>\n",
       "      <td>556757</td>\n",
       "      <td>2021-01-26 00:00:00</td>\n",
       "      <td>2021-01-26 03:07:21</td>\n",
       "      <td>2021-01-26 03:07:57</td>\n",
       "      <td>2021-01-26 03:31:38</td>\n",
       "      <td>2021-01-26 04:00:15</td>\n",
       "      <td>17589</td>\n",
       "      <td>2.7870</td>\n",
       "      <td>4.01</td>\n",
       "      <td>34.0</td>\n",
       "      <td>34.0</td>\n",
       "      <td>0</td>\n",
       "      <td>0.0</td>\n",
       "      <td>84.0</td>\n",
       "      <td>NaN</td>\n",
       "      <td>NaN</td>\n",
       "      <td>NaN</td>\n",
       "      <td>1.350000</td>\n",
       "      <td>NaN</td>\n",
       "    </tr>\n",
       "  </tbody>\n",
       "</table>\n",
       "</div>"
      ],
      "text/plain": [
       "            order_time  order_id           order_date           allot_time  \\\n",
       "0  2021-01-26 02:21:35    556753  2021-01-26 00:00:00  2021-01-26 02:21:59   \n",
       "1  2021-01-26 02:33:16    556754  2021-01-26 00:00:00  2021-01-26 02:33:57   \n",
       "2  2021-01-26 02:39:49    556755  2021-01-26 00:00:00  2021-01-26 02:39:57   \n",
       "3  2021-01-26 02:47:53    556756  2021-01-26 00:00:00  2021-01-26 02:48:25   \n",
       "4  2021-01-26 03:06:30    556757  2021-01-26 00:00:00  2021-01-26 03:07:21   \n",
       "\n",
       "           accept_time          pickup_time       delivered_time  rider_id  \\\n",
       "0  2021-01-26 02:22:08  2021-01-26 02:32:51  2021-01-26 02:49:47     11696   \n",
       "1  2021-01-26 02:34:45  2021-01-26 02:50:25  2021-01-26 03:11:15     18117   \n",
       "2  2021-01-26 02:40:13  2021-01-26 02:56:00  2021-01-26 03:12:46     18623   \n",
       "3  2021-01-26 02:49:06  2021-01-26 03:21:51  2021-01-26 03:41:05     15945   \n",
       "4  2021-01-26 03:07:57  2021-01-26 03:31:38  2021-01-26 04:00:15     17589   \n",
       "\n",
       "   first_mile_distance  last_mile_distance  alloted_orders  delivered_orders  \\\n",
       "0               1.5666                2.65            46.0              46.0   \n",
       "1               2.5207                2.76             8.0               8.0   \n",
       "2               2.2074                4.80             1.0               1.0   \n",
       "3               2.1894                6.38             1.0               1.0   \n",
       "4               2.7870                4.01            34.0              34.0   \n",
       "\n",
       "   cancelled  undelivered_orders  lifetime_order_count reassignment_method  \\\n",
       "0          0                 0.0                 621.0                 NaN   \n",
       "1          0                 0.0                 105.0                 NaN   \n",
       "2          0                 0.0                  66.0                 NaN   \n",
       "3          0                 0.0                 127.0                 NaN   \n",
       "4          0                 0.0                  84.0                 NaN   \n",
       "\n",
       "  reassignment_reason  reassigned_order  session_time cancelled_time  \n",
       "0                 NaN               NaN           NaN            NaN  \n",
       "1                 NaN               NaN      3.266667            NaN  \n",
       "2                 NaN               NaN      9.816667            NaN  \n",
       "3                 NaN               NaN     17.533333            NaN  \n",
       "4                 NaN               NaN      1.350000            NaN  "
      ]
     },
     "execution_count": 26,
     "metadata": {},
     "output_type": "execute_result"
    }
   ],
   "source": [
    "# loading the dataset\n",
    "path = \"E:\\\\Data Analytics stuff\\\\Practice\\\\Clustering_fraud_detection\\\\Rider-Info.csv\"\n",
    "data = pd.read_csv(path)\n",
    "data.head()"
   ]
  },
  {
   "cell_type": "markdown",
   "id": "75bff769",
   "metadata": {},
   "source": [
    "### Data Exploration"
   ]
  },
  {
   "cell_type": "code",
   "execution_count": 3,
   "id": "54d0cb07",
   "metadata": {},
   "outputs": [
    {
     "name": "stdout",
     "output_type": "stream",
     "text": [
      "The dataset has total 450000 rows and 20 columns\n"
     ]
    }
   ],
   "source": [
    "# inspecting the shape of the dataset\n",
    "\n",
    "print(f\"The dataset has total {data.shape[0]} rows and {data.shape[1]} columns\")"
   ]
  },
  {
   "cell_type": "code",
   "execution_count": 4,
   "id": "d8a0fd44",
   "metadata": {},
   "outputs": [
    {
     "name": "stdout",
     "output_type": "stream",
     "text": [
      "<class 'pandas.core.frame.DataFrame'>\n",
      "RangeIndex: 450000 entries, 0 to 449999\n",
      "Data columns (total 20 columns):\n",
      " #   Column                Non-Null Count   Dtype  \n",
      "---  ------                --------------   -----  \n",
      " 0   order_time            450000 non-null  object \n",
      " 1   order_id              450000 non-null  int64  \n",
      " 2   order_date            450000 non-null  object \n",
      " 3   allot_time            450000 non-null  object \n",
      " 4   accept_time           449843 non-null  object \n",
      " 5   pickup_time           447579 non-null  object \n",
      " 6   delivered_time        444782 non-null  object \n",
      " 7   rider_id              450000 non-null  int64  \n",
      " 8   first_mile_distance   450000 non-null  float64\n",
      " 9   last_mile_distance    450000 non-null  float64\n",
      " 10  alloted_orders        433052 non-null  float64\n",
      " 11  delivered_orders      432659 non-null  float64\n",
      " 12  cancelled             450000 non-null  int64  \n",
      " 13  undelivered_orders    432659 non-null  float64\n",
      " 14  lifetime_order_count  449947 non-null  float64\n",
      " 15  reassignment_method   13744 non-null   object \n",
      " 16  reassignment_reason   13753 non-null   object \n",
      " 17  reassigned_order      13753 non-null   float64\n",
      " 18  session_time          446325 non-null  float64\n",
      " 19  cancelled_time        5218 non-null    object \n",
      "dtypes: float64(8), int64(3), object(9)\n",
      "memory usage: 68.7+ MB\n"
     ]
    }
   ],
   "source": [
    "# inspecting the data types of the columns\n",
    "\n",
    "data.info()"
   ]
  },
  {
   "cell_type": "code",
   "execution_count": 5,
   "id": "abbdbe6a",
   "metadata": {},
   "outputs": [
    {
     "data": {
      "text/html": [
       "<div>\n",
       "<style scoped>\n",
       "    .dataframe tbody tr th:only-of-type {\n",
       "        vertical-align: middle;\n",
       "    }\n",
       "\n",
       "    .dataframe tbody tr th {\n",
       "        vertical-align: top;\n",
       "    }\n",
       "\n",
       "    .dataframe thead th {\n",
       "        text-align: right;\n",
       "    }\n",
       "</style>\n",
       "<table border=\"1\" class=\"dataframe\">\n",
       "  <thead>\n",
       "    <tr style=\"text-align: right;\">\n",
       "      <th></th>\n",
       "      <th>order_id</th>\n",
       "      <th>rider_id</th>\n",
       "      <th>first_mile_distance</th>\n",
       "      <th>last_mile_distance</th>\n",
       "      <th>alloted_orders</th>\n",
       "      <th>delivered_orders</th>\n",
       "      <th>cancelled</th>\n",
       "      <th>undelivered_orders</th>\n",
       "      <th>lifetime_order_count</th>\n",
       "      <th>reassigned_order</th>\n",
       "      <th>session_time</th>\n",
       "    </tr>\n",
       "  </thead>\n",
       "  <tbody>\n",
       "    <tr>\n",
       "      <th>count</th>\n",
       "      <td>450000.000000</td>\n",
       "      <td>450000.000000</td>\n",
       "      <td>450000.000000</td>\n",
       "      <td>450000.000000</td>\n",
       "      <td>433052.000000</td>\n",
       "      <td>432659.000000</td>\n",
       "      <td>450000.000000</td>\n",
       "      <td>432659.000000</td>\n",
       "      <td>449947.000000</td>\n",
       "      <td>13753.0</td>\n",
       "      <td>446325.000000</td>\n",
       "    </tr>\n",
       "    <tr>\n",
       "      <th>mean</th>\n",
       "      <td>369143.080767</td>\n",
       "      <td>7763.244016</td>\n",
       "      <td>1.229889</td>\n",
       "      <td>2.968873</td>\n",
       "      <td>104.620909</td>\n",
       "      <td>103.950448</td>\n",
       "      <td>0.011596</td>\n",
       "      <td>0.764165</td>\n",
       "      <td>853.640664</td>\n",
       "      <td>1.0</td>\n",
       "      <td>220.474779</td>\n",
       "    </tr>\n",
       "    <tr>\n",
       "      <th>std</th>\n",
       "      <td>131146.906408</td>\n",
       "      <td>5592.880135</td>\n",
       "      <td>0.846183</td>\n",
       "      <td>1.884124</td>\n",
       "      <td>90.135492</td>\n",
       "      <td>89.639646</td>\n",
       "      <td>0.107057</td>\n",
       "      <td>1.066473</td>\n",
       "      <td>1502.976162</td>\n",
       "      <td>0.0</td>\n",
       "      <td>176.713853</td>\n",
       "    </tr>\n",
       "    <tr>\n",
       "      <th>min</th>\n",
       "      <td>118350.000000</td>\n",
       "      <td>0.000000</td>\n",
       "      <td>0.000134</td>\n",
       "      <td>0.000000</td>\n",
       "      <td>1.000000</td>\n",
       "      <td>1.000000</td>\n",
       "      <td>0.000000</td>\n",
       "      <td>0.000000</td>\n",
       "      <td>0.000000</td>\n",
       "      <td>1.0</td>\n",
       "      <td>0.000000</td>\n",
       "    </tr>\n",
       "    <tr>\n",
       "      <th>25%</th>\n",
       "      <td>257342.750000</td>\n",
       "      <td>2805.000000</td>\n",
       "      <td>0.539575</td>\n",
       "      <td>1.470000</td>\n",
       "      <td>36.000000</td>\n",
       "      <td>36.000000</td>\n",
       "      <td>0.000000</td>\n",
       "      <td>0.000000</td>\n",
       "      <td>165.000000</td>\n",
       "      <td>1.0</td>\n",
       "      <td>84.100000</td>\n",
       "    </tr>\n",
       "    <tr>\n",
       "      <th>50%</th>\n",
       "      <td>369842.500000</td>\n",
       "      <td>6754.000000</td>\n",
       "      <td>1.138700</td>\n",
       "      <td>2.670000</td>\n",
       "      <td>81.000000</td>\n",
       "      <td>81.000000</td>\n",
       "      <td>0.000000</td>\n",
       "      <td>0.000000</td>\n",
       "      <td>396.000000</td>\n",
       "      <td>1.0</td>\n",
       "      <td>175.550000</td>\n",
       "    </tr>\n",
       "    <tr>\n",
       "      <th>75%</th>\n",
       "      <td>482342.250000</td>\n",
       "      <td>11965.000000</td>\n",
       "      <td>1.853000</td>\n",
       "      <td>4.220000</td>\n",
       "      <td>147.000000</td>\n",
       "      <td>146.000000</td>\n",
       "      <td>0.000000</td>\n",
       "      <td>1.000000</td>\n",
       "      <td>948.000000</td>\n",
       "      <td>1.0</td>\n",
       "      <td>316.766667</td>\n",
       "    </tr>\n",
       "    <tr>\n",
       "      <th>max</th>\n",
       "      <td>594842.000000</td>\n",
       "      <td>21566.000000</td>\n",
       "      <td>42.038100</td>\n",
       "      <td>22.410000</td>\n",
       "      <td>567.000000</td>\n",
       "      <td>562.000000</td>\n",
       "      <td>1.000000</td>\n",
       "      <td>9.000000</td>\n",
       "      <td>30469.000000</td>\n",
       "      <td>1.0</td>\n",
       "      <td>1298.966667</td>\n",
       "    </tr>\n",
       "  </tbody>\n",
       "</table>\n",
       "</div>"
      ],
      "text/plain": [
       "            order_id       rider_id  first_mile_distance  last_mile_distance  \\\n",
       "count  450000.000000  450000.000000        450000.000000       450000.000000   \n",
       "mean   369143.080767    7763.244016             1.229889            2.968873   \n",
       "std    131146.906408    5592.880135             0.846183            1.884124   \n",
       "min    118350.000000       0.000000             0.000134            0.000000   \n",
       "25%    257342.750000    2805.000000             0.539575            1.470000   \n",
       "50%    369842.500000    6754.000000             1.138700            2.670000   \n",
       "75%    482342.250000   11965.000000             1.853000            4.220000   \n",
       "max    594842.000000   21566.000000            42.038100           22.410000   \n",
       "\n",
       "       alloted_orders  delivered_orders      cancelled  undelivered_orders  \\\n",
       "count   433052.000000     432659.000000  450000.000000       432659.000000   \n",
       "mean       104.620909        103.950448       0.011596            0.764165   \n",
       "std         90.135492         89.639646       0.107057            1.066473   \n",
       "min          1.000000          1.000000       0.000000            0.000000   \n",
       "25%         36.000000         36.000000       0.000000            0.000000   \n",
       "50%         81.000000         81.000000       0.000000            0.000000   \n",
       "75%        147.000000        146.000000       0.000000            1.000000   \n",
       "max        567.000000        562.000000       1.000000            9.000000   \n",
       "\n",
       "       lifetime_order_count  reassigned_order   session_time  \n",
       "count         449947.000000           13753.0  446325.000000  \n",
       "mean             853.640664               1.0     220.474779  \n",
       "std             1502.976162               0.0     176.713853  \n",
       "min                0.000000               1.0       0.000000  \n",
       "25%              165.000000               1.0      84.100000  \n",
       "50%              396.000000               1.0     175.550000  \n",
       "75%              948.000000               1.0     316.766667  \n",
       "max            30469.000000               1.0    1298.966667  "
      ]
     },
     "execution_count": 5,
     "metadata": {},
     "output_type": "execute_result"
    }
   ],
   "source": [
    "# performing statistical exploration on the data\n",
    "\n",
    "data.describe()"
   ]
  },
  {
   "cell_type": "markdown",
   "id": "739c04d7",
   "metadata": {},
   "source": [
    "It can be seen that the **allot_time, pickup_time, delivered_time** are stored in **object data format**. In order to perform arithmatic operations on these columns **we need them in datetime format**. We will convert these columns into datetime format in the feature transforamtion section.\n",
    "\n",
    "It can also be noticed that there are several null values in the dataset. The Isolation Forest Algorithm cannot work with null values, therefore it is required to free the data of any missing value."
   ]
  },
  {
   "cell_type": "code",
   "execution_count": 6,
   "id": "a6fbdd75",
   "metadata": {},
   "outputs": [
    {
     "name": "stdout",
     "output_type": "stream",
     "text": [
      "Percent of missing values in each column: /n\n"
     ]
    },
    {
     "data": {
      "text/plain": [
       "order_time               0.000000\n",
       "order_id                 0.000000\n",
       "order_date               0.000000\n",
       "allot_time               0.000000\n",
       "accept_time              0.034889\n",
       "pickup_time              0.538000\n",
       "delivered_time           1.159556\n",
       "rider_id                 0.000000\n",
       "first_mile_distance      0.000000\n",
       "last_mile_distance       0.000000\n",
       "alloted_orders           3.766222\n",
       "delivered_orders         3.853556\n",
       "cancelled                0.000000\n",
       "undelivered_orders       3.853556\n",
       "lifetime_order_count     0.011778\n",
       "reassignment_method     96.945778\n",
       "reassignment_reason     96.943778\n",
       "reassigned_order        96.943778\n",
       "session_time             0.816667\n",
       "cancelled_time          98.840444\n",
       "dtype: float64"
      ]
     },
     "execution_count": 6,
     "metadata": {},
     "output_type": "execute_result"
    }
   ],
   "source": [
    "# checking the dataset for null values\n",
    "\n",
    "print(\"Percent of missing values in each column: /n\")\n",
    "(data.isnull().sum()/data.shape[0])*100"
   ]
  },
  {
   "cell_type": "markdown",
   "id": "17557629",
   "metadata": {},
   "source": [
    "Columns such as reassignment method, reassignment reason, reassigned order, cancellation time have very high ratio of missing values,also these columns are not required for the analysis. Therefore we can drop these columns from the dataframe to make further analysis easier."
   ]
  },
  {
   "cell_type": "code",
   "execution_count": 28,
   "id": "a8e8c1ae",
   "metadata": {},
   "outputs": [
    {
     "name": "stdout",
     "output_type": "stream",
     "text": [
      "Number of duplicate entries in the dataframe are:  1\n"
     ]
    }
   ],
   "source": [
    "# checking the dataset for duplicated values\n",
    "\n",
    "print(\"Number of duplicate entries in the dataframe are: \", \\\n",
    "      data['order_id'].duplicated().sum())"
   ]
  },
  {
   "cell_type": "code",
   "execution_count": 8,
   "id": "da1f7566",
   "metadata": {},
   "outputs": [],
   "source": [
    "# imputing the missing values with mean values\n",
    "\n",
    "from sklearn.impute import SimpleImputer\n",
    "\n",
    "imputer = SimpleImputer(strategy='mean')\n",
    "cols = ['alloted_orders','delivered_orders','undelivered_orders']\n",
    "data[cols] = imputer.fit_transform(data[cols])"
   ]
  },
  {
   "cell_type": "markdown",
   "id": "0173b18d",
   "metadata": {},
   "source": [
    "### Feature Engineering:"
   ]
  },
  {
   "cell_type": "markdown",
   "id": "69375eef",
   "metadata": {},
   "source": [
    "In order to identify potential fraudulent delivery executives, we need to devise some metrics to track the performance of delivery executive that differentiates the normal riders from the fraudulent ones. Using these metrics the algorith will be able to create a rough segregation of normal and anomalistic riders from the dateset. \n",
    "\n",
    "From the available data, we can come up with metrics such as \"undelivered order ratio\" for past one month, \"time to deliver\" order, \"time to accept\" order, \"time to pickup\" the order. The Isolation Forest Algorithm will be trained on these metrics.\n",
    "\n",
    "We can then analyse the mean values for normal delivery executives vs the values for anomalistic delivery executives, this will help us define the threshold beyond which the observations may be concluded as anomalies in the dataset. We will then further analyse the data with anomaly."
   ]
  },
  {
   "cell_type": "code",
   "execution_count": 9,
   "id": "3f49148a",
   "metadata": {},
   "outputs": [
    {
     "data": {
      "text/plain": [
       "Index(['order_time', 'allot_time', 'accept_time', 'pickup_time',\n",
       "       'delivered_time', 'rider_id', 'last_mile_distance', 'alloted_orders',\n",
       "       'delivered_orders', 'cancelled', 'undelivered_orders',\n",
       "       'lifetime_order_count', 'session_time'],\n",
       "      dtype='object')"
      ]
     },
     "execution_count": 9,
     "metadata": {},
     "output_type": "execute_result"
    }
   ],
   "source": [
    "# selecting the required columns from the original dataset\n",
    "\n",
    "filtered_data = data.iloc[:, [0] + list(range(3, 8)) + [9] + list(range(10, 15)) + [18]]\n",
    "(filtered_data.columns)"
   ]
  },
  {
   "cell_type": "code",
   "execution_count": 29,
   "id": "a5c79f35",
   "metadata": {},
   "outputs": [],
   "source": [
    "# converting date type columns into datetime columns\n",
    "\n",
    "datetime_columns = ['order_time', 'allot_time', 'accept_time', \n",
    "                    'pickup_time', 'delivered_time']\n",
    "filtered_data[datetime_columns] = filtered_data[datetime_columns].apply(pd.to_datetime)"
   ]
  },
  {
   "cell_type": "code",
   "execution_count": 30,
   "id": "b5ec83be",
   "metadata": {},
   "outputs": [],
   "source": [
    "# dropping observations with null values\n",
    "\n",
    "column = ['accept_time','pickup_time','delivered_time',\n",
    "          'session_time','lifetime_order_count']\n",
    "filtered_data = filtered_data.dropna(subset=column)"
   ]
  },
  {
   "cell_type": "markdown",
   "id": "c25cada7",
   "metadata": {},
   "source": [
    "The fraud can be carried out in one of the mentioned ways:\n",
    "\n",
    "- The rider may take too long to accept the order after the order has been alloted. This can be due to the fact that the riders are provided waiting bonus/compensation. This increases the cost for the company and degrades the delivery experience.\n",
    "- The rider may take too long to deliver the order after the order has been picked up, forcing the customer to cancel the order. This also increases the cost to company in the form of refunds, also the orders are not returned to the restaurant.\n",
    "- Another anomaly is that the delivery executive has a very brief average session time (few minutes). Session time is the time in minutes before the rider have been assigned an order. Low avg session time of a rider points to incidences of fraud."
   ]
  },
  {
   "cell_type": "code",
   "execution_count": 31,
   "id": "f4a68c36",
   "metadata": {},
   "outputs": [],
   "source": [
    "# extracting features from dataset for further analysis\n",
    "# extracted featurs: time_to accept, time to deliver, time_to_pickup\n",
    "\n",
    "# calculating the ratio of undelivered orders\n",
    "filtered_data['undelivered_order_rate'] = filtered_data['undelivered_orders']\\\n",
    "/ (filtered_data['undelivered_orders'] + filtered_data['delivered_orders'])\n",
    "\n",
    "# calculating time to accept order in minutes\n",
    "filtered_data['time_to_accept_min'] = (filtered_data['accept_time'] - \\\n",
    "                                       filtered_data['allot_time']).dt.total_seconds()/60\n",
    "\n",
    "# calculating time to pickup in minutes\n",
    "filtered_data['time_to_pickup_min'] = (filtered_data['pickup_time'] - \\\n",
    "                                       filtered_data['accept_time']).dt.total_seconds()/60\n",
    "\n",
    "# calculating time to delivery in minutes\n",
    "filtered_data['time_to_deliver_min'] = (filtered_data['delivered_time'] - \\\n",
    "                                        filtered_data['pickup_time']).dt.total_seconds()/60"
   ]
  },
  {
   "cell_type": "markdown",
   "id": "e246f17e",
   "metadata": {},
   "source": [
    "Aggregating the metrics against each delivery executive to find mean of each metric. Once done, then passing the aggregated data to the algorithm."
   ]
  },
  {
   "cell_type": "code",
   "execution_count": 13,
   "id": "f83c3a49",
   "metadata": {},
   "outputs": [],
   "source": [
    "# aggregating data by rider id\n",
    "\n",
    "grouped_data = filtered_data.groupby('rider_id').agg({\n",
    "    'undelivered_order_rate': 'mean',\n",
    "    'delivered_orders':'max',\n",
    "    'time_to_accept_min': 'mean',\n",
    "    'time_to_pickup_min': 'mean',\n",
    "    'time_to_deliver_min': 'mean',\n",
    "    'last_mile_distance':'mean',\n",
    "    'session_time':'mean',\n",
    "    'lifetime_order_count':'max'\n",
    "})\n",
    "grouped_data = grouped_data.reset_index()"
   ]
  },
  {
   "cell_type": "code",
   "execution_count": 14,
   "id": "ebd1ce12",
   "metadata": {
    "scrolled": false
   },
   "outputs": [
    {
     "data": {
      "text/html": [
       "<div>\n",
       "<style scoped>\n",
       "    .dataframe tbody tr th:only-of-type {\n",
       "        vertical-align: middle;\n",
       "    }\n",
       "\n",
       "    .dataframe tbody tr th {\n",
       "        vertical-align: top;\n",
       "    }\n",
       "\n",
       "    .dataframe thead th {\n",
       "        text-align: right;\n",
       "    }\n",
       "</style>\n",
       "<table border=\"1\" class=\"dataframe\">\n",
       "  <thead>\n",
       "    <tr style=\"text-align: right;\">\n",
       "      <th></th>\n",
       "      <th>rider_id</th>\n",
       "      <th>undelivered_order_rate</th>\n",
       "      <th>delivered_orders</th>\n",
       "      <th>time_to_accept_min</th>\n",
       "      <th>time_to_pickup_min</th>\n",
       "      <th>time_to_deliver_min</th>\n",
       "      <th>last_mile_distance</th>\n",
       "      <th>session_time</th>\n",
       "      <th>lifetime_order_count</th>\n",
       "    </tr>\n",
       "  </thead>\n",
       "  <tbody>\n",
       "    <tr>\n",
       "      <th>count</th>\n",
       "      <td>18918.00000</td>\n",
       "      <td>18918.000000</td>\n",
       "      <td>18918.000000</td>\n",
       "      <td>18918.000000</td>\n",
       "      <td>18918.000000</td>\n",
       "      <td>18918.000000</td>\n",
       "      <td>18918.000000</td>\n",
       "      <td>18918.000000</td>\n",
       "      <td>18918.000000</td>\n",
       "    </tr>\n",
       "    <tr>\n",
       "      <th>mean</th>\n",
       "      <td>10948.43345</td>\n",
       "      <td>0.011796</td>\n",
       "      <td>82.496356</td>\n",
       "      <td>1.152025</td>\n",
       "      <td>14.529644</td>\n",
       "      <td>18.940315</td>\n",
       "      <td>2.914766</td>\n",
       "      <td>170.385290</td>\n",
       "      <td>626.799926</td>\n",
       "    </tr>\n",
       "    <tr>\n",
       "      <th>std</th>\n",
       "      <td>6266.13715</td>\n",
       "      <td>0.035425</td>\n",
       "      <td>61.846217</td>\n",
       "      <td>1.008281</td>\n",
       "      <td>7.604770</td>\n",
       "      <td>60.975092</td>\n",
       "      <td>1.062519</td>\n",
       "      <td>111.702101</td>\n",
       "      <td>1311.538678</td>\n",
       "    </tr>\n",
       "    <tr>\n",
       "      <th>min</th>\n",
       "      <td>0.00000</td>\n",
       "      <td>0.000000</td>\n",
       "      <td>1.000000</td>\n",
       "      <td>0.033333</td>\n",
       "      <td>0.400000</td>\n",
       "      <td>0.066667</td>\n",
       "      <td>0.000000</td>\n",
       "      <td>0.016667</td>\n",
       "      <td>1.000000</td>\n",
       "    </tr>\n",
       "    <tr>\n",
       "      <th>25%</th>\n",
       "      <td>5459.50000</td>\n",
       "      <td>0.000000</td>\n",
       "      <td>33.000000</td>\n",
       "      <td>0.616667</td>\n",
       "      <td>11.880484</td>\n",
       "      <td>12.940605</td>\n",
       "      <td>2.347210</td>\n",
       "      <td>93.335329</td>\n",
       "      <td>77.000000</td>\n",
       "    </tr>\n",
       "    <tr>\n",
       "      <th>50%</th>\n",
       "      <td>11145.50000</td>\n",
       "      <td>0.002027</td>\n",
       "      <td>85.000000</td>\n",
       "      <td>0.891667</td>\n",
       "      <td>13.825000</td>\n",
       "      <td>15.483333</td>\n",
       "      <td>2.896771</td>\n",
       "      <td>137.461111</td>\n",
       "      <td>232.000000</td>\n",
       "    </tr>\n",
       "    <tr>\n",
       "      <th>75%</th>\n",
       "      <td>16407.75000</td>\n",
       "      <td>0.008700</td>\n",
       "      <td>103.950448</td>\n",
       "      <td>1.344345</td>\n",
       "      <td>16.050000</td>\n",
       "      <td>18.618446</td>\n",
       "      <td>3.478000</td>\n",
       "      <td>233.705417</td>\n",
       "      <td>632.000000</td>\n",
       "    </tr>\n",
       "    <tr>\n",
       "      <th>max</th>\n",
       "      <td>21566.00000</td>\n",
       "      <td>0.750000</td>\n",
       "      <td>562.000000</td>\n",
       "      <td>14.950000</td>\n",
       "      <td>652.200000</td>\n",
       "      <td>4198.533333</td>\n",
       "      <td>10.120000</td>\n",
       "      <td>831.300000</td>\n",
       "      <td>30469.000000</td>\n",
       "    </tr>\n",
       "  </tbody>\n",
       "</table>\n",
       "</div>"
      ],
      "text/plain": [
       "          rider_id  undelivered_order_rate  delivered_orders  \\\n",
       "count  18918.00000            18918.000000      18918.000000   \n",
       "mean   10948.43345                0.011796         82.496356   \n",
       "std     6266.13715                0.035425         61.846217   \n",
       "min        0.00000                0.000000          1.000000   \n",
       "25%     5459.50000                0.000000         33.000000   \n",
       "50%    11145.50000                0.002027         85.000000   \n",
       "75%    16407.75000                0.008700        103.950448   \n",
       "max    21566.00000                0.750000        562.000000   \n",
       "\n",
       "       time_to_accept_min  time_to_pickup_min  time_to_deliver_min  \\\n",
       "count        18918.000000        18918.000000         18918.000000   \n",
       "mean             1.152025           14.529644            18.940315   \n",
       "std              1.008281            7.604770            60.975092   \n",
       "min              0.033333            0.400000             0.066667   \n",
       "25%              0.616667           11.880484            12.940605   \n",
       "50%              0.891667           13.825000            15.483333   \n",
       "75%              1.344345           16.050000            18.618446   \n",
       "max             14.950000          652.200000          4198.533333   \n",
       "\n",
       "       last_mile_distance  session_time  lifetime_order_count  \n",
       "count        18918.000000  18918.000000          18918.000000  \n",
       "mean             2.914766    170.385290            626.799926  \n",
       "std              1.062519    111.702101           1311.538678  \n",
       "min              0.000000      0.016667              1.000000  \n",
       "25%              2.347210     93.335329             77.000000  \n",
       "50%              2.896771    137.461111            232.000000  \n",
       "75%              3.478000    233.705417            632.000000  \n",
       "max             10.120000    831.300000          30469.000000  "
      ]
     },
     "execution_count": 14,
     "metadata": {},
     "output_type": "execute_result"
    }
   ],
   "source": [
    "# performing a statistical exploration of the data\n",
    "\n",
    "grouped_data.describe()"
   ]
  },
  {
   "cell_type": "markdown",
   "id": "49af29ea",
   "metadata": {},
   "source": [
    " "
   ]
  },
  {
   "cell_type": "markdown",
   "id": "c58554ec",
   "metadata": {},
   "source": [
    " "
   ]
  },
  {
   "cell_type": "markdown",
   "id": "46ac42f1",
   "metadata": {},
   "source": [
    " "
   ]
  },
  {
   "cell_type": "markdown",
   "id": "b65636d1",
   "metadata": {},
   "source": [
    "- There are 18918 distinct riders.\n",
    "- Average undelivered order rate is 0.2%.We will be calculating the average undelivered order rate for normal vs anomaly riders after the model is trained.\n",
    "- From the above statstical analysis, it can be seen that the average time to pickup the order is 14 minutes approximately, still a more conservative number would be Q3 + 3IQR which is 28 minutes approximately. Values beyond 28 min of pickup time needs further analysis as they can be potential frauds.\n",
    "- The average delivery distance for each rider is 3 minutes with minimum delivery distance being 0.00 km that too can be a probable fraud incidence.\n",
    "- A very low acceptance time can be a signal of bot being used to accept the orders, that can be another scope of analysis.\n",
    "- Average delivery time is 15.5 minutes, therefore a conservative threshold could be set at Q3 + 3IQR which is 36 min approximately."
   ]
  },
  {
   "cell_type": "markdown",
   "id": "6574e30b",
   "metadata": {},
   "source": [
    "There are riders who have been delivering orders since a long time and hence their lifetime order count is pretty high, on the other hand there are riders who have joined recently and have a very low lifetime order count. Although we will be scaling the features of the final dataset before fitting the model to the dataset, we will also have to ensure that the algorithm does not get skewed against the new riders. \n",
    "\n",
    "To solve this issue we will extract 'wights' which is inverse of the maximum value of lifetime orders for each rider. This  will be used as a 'sample_weight' attribute of the isolation forest algorithm. This would ensure that riders which have lesser lifetime order count are given more weightage so that the model does not identify them as anomaly on the basis of lesser lifetime order count."
   ]
  },
  {
   "cell_type": "markdown",
   "id": "6cf58f1f",
   "metadata": {},
   "source": [
    " "
   ]
  },
  {
   "cell_type": "markdown",
   "id": "085980dd",
   "metadata": {},
   "source": [
    " "
   ]
  },
  {
   "cell_type": "code",
   "execution_count": 15,
   "id": "7ac6e672",
   "metadata": {},
   "outputs": [],
   "source": [
    "# extracting the wights for each rider\n",
    "\n",
    "grouped_data['weights'] = 1 / grouped_data['lifetime_order_count']"
   ]
  },
  {
   "cell_type": "code",
   "execution_count": 16,
   "id": "038a87e7",
   "metadata": {},
   "outputs": [],
   "source": [
    "# selecting features for the Isolation Forest algorithm\n",
    "\n",
    "features = ['undelivered_order_rate', 'delivered_orders', 'last_mile_distance', \n",
    "            'lifetime_order_count', 'session_time', 'time_to_accept_min', \n",
    "            'time_to_pickup_min', 'time_to_deliver_min']\n",
    "X = grouped_data[features]"
   ]
  },
  {
   "cell_type": "code",
   "execution_count": 17,
   "id": "a245bd8a",
   "metadata": {},
   "outputs": [],
   "source": [
    "# scaling the features for better model performance\n",
    "\n",
    "from sklearn.preprocessing import StandardScaler\n",
    "scaler = StandardScaler()\n",
    "X_scaled = scaler.fit_transform(X)"
   ]
  },
  {
   "cell_type": "markdown",
   "id": "543bcc53",
   "metadata": {},
   "source": [
    " "
   ]
  },
  {
   "cell_type": "markdown",
   "id": "dfa6c6c8",
   "metadata": {},
   "source": [
    " "
   ]
  },
  {
   "cell_type": "markdown",
   "id": "af69823f",
   "metadata": {},
   "source": [
    " "
   ]
  },
  {
   "cell_type": "markdown",
   "id": "fbdd2061",
   "metadata": {},
   "source": [
    "### Model Training and making prediction:"
   ]
  },
  {
   "cell_type": "code",
   "execution_count": 18,
   "id": "d2390b96",
   "metadata": {},
   "outputs": [],
   "source": [
    "# fitting the data to the Isolation Forest model for anomaly detection\n",
    "\n",
    "from sklearn.ensemble import IsolationForest\n",
    "\n",
    "iso_forest = IsolationForest(n_estimators = 100, contamination=0.01, random_state=42)\n",
    "iso_forest.fit(X_scaled,sample_weight=grouped_data['weights'])\n",
    "grouped_data['anomaly'] = iso_forest.predict(X_scaled)\n",
    "grouped_data['anomaly'] = grouped_data['anomaly'].map({1: 'Normal', -1: 'Anomaly'})"
   ]
  },
  {
   "cell_type": "code",
   "execution_count": 37,
   "id": "6388ee4f",
   "metadata": {
    "scrolled": false
   },
   "outputs": [
    {
     "data": {
      "image/png": "[encoded data removed]",
      "text/plain": [
       "<Figure size 1000x400 with 1 Axes>"
      ]
     },
     "metadata": {},
     "output_type": "display_data"
    }
   ],
   "source": [
    "# comparing the undelivered orders for normal and anomaly riders\n",
    "\n",
    "plt.figure(figsize=(10, 4))\n",
    "for label, color in zip(['Normal', 'Anomaly'], ['blue', 'red']):\n",
    "    subset = grouped_data[grouped_data['anomaly'] == label]\n",
    "    plt.scatter(subset['session_time'], subset['undelivered_order_rate'],\n",
    "                label=label, alpha=0.5, c=color)\n",
    "\n",
    "plt.xlabel('Session time in minuites')\n",
    "plt.ylabel('Undelivered Order Rate')\n",
    "plt.title('Scatter Plot of Normal vs Anomaly Riders')\n",
    "plt.legend()\n",
    "plt.show()"
   ]
  },
  {
   "cell_type": "markdown",
   "id": "47e46732",
   "metadata": {},
   "source": [
    "- As can be seen, most of the riders have undelivered rate close to 0%, and majority of the values lies within the range 0 to 10%. This can serve as a preliminary threshold for the analysis.\n",
    "- Some normal riders can be seen to have higher undelivered order rate, which can be due to less number of orders delivered in the previous 30 days.\n",
    "- Note that undelivered order rate is extracted from features - delivered orders, and undelivered orders which is the data of total orders delivered in last 30 days (excluding the current date)."
   ]
  },
  {
   "cell_type": "code",
   "execution_count": 20,
   "id": "d89ca36a",
   "metadata": {},
   "outputs": [
    {
     "name": "stdout",
     "output_type": "stream",
     "text": [
      "The average undelivered orders for normal riders is: 1.0533758677853449%\n",
      "The average undelivered orders for anomaly riders is: 13.61839152654979%\n"
     ]
    }
   ],
   "source": [
    "# checking the average of undelivered order rate for normal riders\n",
    "\n",
    "avg_undlivered_normal = grouped_data[grouped_data['anomaly'] == \"Normal\"]['undelivered_order_rate'].mean()*100\n",
    "avg_undlivered_anomaly = grouped_data[grouped_data['anomaly'] == \"Anomaly\"]['undelivered_order_rate'].mean()*100\n",
    "print(f\"The average undelivered orders for normal riders is: {avg_undlivered_normal}%\")\n",
    "print(f\"The average undelivered orders for anomaly riders is: {avg_undlivered_anomaly}%\")"
   ]
  },
  {
   "cell_type": "markdown",
   "id": "f7586f5c",
   "metadata": {},
   "source": [
    "To check the outliers we can set the threshold as Q3 + 3IQR where Q3 and IQR is calculated for normal riders."
   ]
  },
  {
   "cell_type": "code",
   "execution_count": 21,
   "id": "65b15f56",
   "metadata": {},
   "outputs": [
    {
     "name": "stdout",
     "output_type": "stream",
     "text": [
      "Inspecting the data for anomaly riders \n",
      "\n",
      "Number of riders having delivery time greater than threshold: 1425\n",
      "       rider_id  undelivered_order_rate  anomaly\n",
      "17602     20095                0.750000  Anomaly\n",
      "17925     20448                0.666667  Anomaly\n",
      "9882      11624                0.666667  Anomaly\n",
      "15297     17583                0.666667  Anomaly\n",
      "17897     20415                0.600000  Anomaly\n"
     ]
    }
   ],
   "source": [
    "# obtainin the list of riders where undelivery rate greater than threshold\n",
    "\n",
    "Q1 = grouped_data[grouped_data['anomaly'] == \"Normal\"]['undelivered_order_rate'].quantile(0.25)\n",
    "Q3 = grouped_data[grouped_data['anomaly'] == \"Normal\"]['undelivered_order_rate'].quantile(0.75)\n",
    "IQR = Q3 -Q1\n",
    "threshold = Q3 + 3* IQR\n",
    "\n",
    "anomaly_riders = grouped_data[grouped_data['undelivered_order_rate'] > threshold].\\\n",
    "sort_values(by='undelivered_order_rate',ascending = False)[['rider_id','undelivered_order_rate','anomaly']]\n",
    "\n",
    "print(\"Inspecting the data for anomaly riders \\n\")\n",
    "print(f\"Number of riders having delivery time greater than threshold: {anomaly_riders.rider_id.nunique()}\")\n",
    "print(anomaly_riders.head())"
   ]
  },
  {
   "cell_type": "code",
   "execution_count": 39,
   "id": "1f58e088",
   "metadata": {},
   "outputs": [
    {
     "data": {
      "image/png": "[encoded data removed]",
      "text/plain": [
       "<Figure size 1000x250 with 1 Axes>"
      ]
     },
     "metadata": {},
     "output_type": "display_data"
    }
   ],
   "source": [
    "# comparing the delivery time of normal riders vs anomaly riders\n",
    "\n",
    "plt.figure(figsize=(10, 2.5))\n",
    "for label, color in zip(['Normal', 'Anomaly'], ['blue', 'red']):\n",
    "    subset = grouped_data[grouped_data['anomaly'] == label]\n",
    "    plt.scatter(subset['time_to_pickup_min'], subset['time_to_deliver_min'], label=label, alpha=0.5, c=color)\n",
    "\n",
    "plt.xlabel('Time to pickup')\n",
    "plt.ylabel('TIme to deliver')\n",
    "plt.title('Scatter Plot of Normal vs Anomaly Riders')\n",
    "plt.legend()\n",
    "plt.show()"
   ]
  },
  {
   "cell_type": "markdown",
   "id": "9ca935e2",
   "metadata": {},
   "source": [
    "From the graph it can be seen that most of the deliery times lies within 200 minutes. Lets see the average delivery time for normal riders."
   ]
  },
  {
   "cell_type": "code",
   "execution_count": 43,
   "id": "d36d92a0",
   "metadata": {},
   "outputs": [
    {
     "name": "stdout",
     "output_type": "stream",
     "text": [
      "The average delivery time for normal riders is: 17.249780340394334 minutes \n",
      "The average delivery time for normal riders is: 185.57360751850686 minutes \n"
     ]
    }
   ],
   "source": [
    "# checking the average of delivery time for normal riders\n",
    "\n",
    "avg_delivery_time = grouped_data[grouped_data['anomaly'] == \"Normal\"]\\\n",
    "['time_to_deliver_min'].mean()\n",
    "\n",
    "avg_delivery_time_anomaly = grouped_data[grouped_data['anomaly'] == \"Anomaly\"]\\\n",
    "['time_to_deliver_min'].mean()\n",
    "\n",
    "print(f\"The avg. delivery time for normal riders is: {avg_delivery_time} minutes\")\n",
    "print(f\"The avg. delivery time for normal riders is: {avg_delivery_time_anomaly} minutes\")"
   ]
  },
  {
   "cell_type": "markdown",
   "id": "218c0e99",
   "metadata": {},
   "source": [
    "The average delivery time for anomalistic riders is approx 185 minutes while for normal riders the delivery time is significantly less, which is 17 minutes."
   ]
  },
  {
   "cell_type": "code",
   "execution_count": 41,
   "id": "e4112b79",
   "metadata": {},
   "outputs": [
    {
     "name": "stdout",
     "output_type": "stream",
     "text": [
      "Inspecting the data for anomaly riders \n",
      "\n",
      "Number of riders having delivery time greater than threshold:  456\n",
      "       rider_id  time_to_deliver_min  anomaly\n",
      "15706     18032          4198.533333  Anomaly\n",
      "16720     19122          3945.133333  Anomaly\n",
      "17201     19649          2591.350000  Anomaly\n",
      "15040     17309          2373.244444  Anomaly\n",
      "12264     14394          1911.400000  Anomaly\n"
     ]
    }
   ],
   "source": [
    "# obtainin the list of top riders where undelivery rate greater than threshold\n",
    "\n",
    "Q1 = grouped_data[grouped_data['anomaly']==\"Normal\"]['time_to_deliver_min'].quantile(0.25)\n",
    "Q3 = grouped_data[grouped_data['anomaly']==\"Normal\"]['time_to_deliver_min'].quantile(0.75)\n",
    "\n",
    "IQR = Q3 -Q1\n",
    "threshold = Q3 + 3* IQR\n",
    "\n",
    "anomaly_rider_del_time = grouped_data[grouped_data['time_to_deliver_min'] > threshold].\\\n",
    "sort_values(by='time_to_deliver_min',ascending = False)[['rider_id','time_to_deliver_min','anomaly']]\n",
    "\n",
    "print(\"Inspecting the data for anomaly riders \\n\")\n",
    "print(\"Number of riders having delivery time greater than threshold: \",\n",
    "      anomaly_rider_del_time.rider_id.nunique())\n",
    "print(anomaly_rider_del_time.head())"
   ]
  },
  {
   "cell_type": "markdown",
   "id": "30decc16",
   "metadata": {},
   "source": [
    "### Future Scope of project:\n",
    "\n",
    "  1. Additional data would be required to identify the scale of fraud for anomalistic riders based on the average order values.\n",
    "  2. Data such as total time online can also give a good idea on the session behavior of riders.\n",
    "  3. The data can be further analysed to identify the time slots where the count of undelivered orders is high to implement stronger supervision.\n",
    "  4. Terminal data on lat, lon for anomalistic riders can unearth potential trend / pattern strengthening the premise."
   ]
  }
 ],
 "metadata": {
  "kernelspec": {
   "display_name": "Python 3 (ipykernel)",
   "language": "python",
   "name": "python3"
  },
  "language_info": {
   "codemirror_mode": {
    "name": "ipython",
    "version": 3
   },
   "file_extension": ".py",
   "mimetype": "text/x-python",
   "name": "python",
   "nbconvert_exporter": "python",
   "pygments_lexer": "ipython3",
   "version": "3.11.3"
  }
 },
 "nbformat": 4,
 "nbformat_minor": 5
}
